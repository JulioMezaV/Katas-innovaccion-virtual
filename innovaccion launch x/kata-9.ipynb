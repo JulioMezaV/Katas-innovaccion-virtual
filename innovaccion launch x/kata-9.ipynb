{
 "cells": [
  {
   "cell_type": "markdown",
   "metadata": {},
   "source": [
    "# Katas modulo 9"
   ]
  },
  {
   "cell_type": "code",
   "execution_count": 9,
   "metadata": {},
   "outputs": [],
   "source": [
    "#Funcion para leer 3 tanque y calcular promedio\n",
    "def combustible(tanque1, tanque2, tanque3):\n",
    "    promedio = (tanque1 + tanque2 + tanque3)/3\n",
    "    return f\"\"\"Informe de combustible\n",
    "    lectura de primer tanque: {tanque1}\n",
    "    lectura de segundo tanque: {tanque2}\n",
    "    lectura de tercer tanque: {tanque3}\n",
    "    promedio de combustible\" {promedio}\"\"\""
   ]
  },
  {
   "cell_type": "code",
   "execution_count": 10,
   "metadata": {},
   "outputs": [
    {
     "name": "stdout",
     "output_type": "stream",
     "text": [
      "Informe de combustible\n",
      "    lectura de primer tanque: 10\n",
      "    lectura de segundo tanque: 20\n",
      "    lectura de tercer tanque: 30\n",
      "    promedio de combustible\" 20.0\n"
     ]
    }
   ],
   "source": [
    "# Llamada a la funcion\n",
    "print(combustible(10,20,30))"
   ]
  },
  {
   "cell_type": "code",
   "execution_count": 14,
   "metadata": {},
   "outputs": [],
   "source": [
    "# Funcion promedio\n",
    "def promedio_combustible(*cantidad):\n",
    "    total = sum(cantidad)\n",
    "    numero_de_tanques = len(cantidad)\n",
    "    return total/numero_de_tanques"
   ]
  },
  {
   "cell_type": "code",
   "execution_count": 15,
   "metadata": {},
   "outputs": [
    {
     "name": "stdout",
     "output_type": "stream",
     "text": [
      "21.666666666666668\n"
     ]
    }
   ],
   "source": [
    "print(promedio_combustible(15,20,30))"
   ]
  },
  {
   "cell_type": "code",
   "execution_count": 17,
   "metadata": {},
   "outputs": [],
   "source": [
    "#funcion informe llamando a la funcion promedio\n",
    "def combustible(tanque1, tanque2, tanque3):\n",
    "    return f\"\"\"Informe de combustible\n",
    "    lectura de primer tanque: {tanque1}\n",
    "    lectura de segundo tanque: {tanque2}\n",
    "    lectura de tercer tanque: {tanque3}\n",
    "    promedio de combustible\" {promedio_combustible(tanque1,tanque2,tanque3)}\"\"\""
   ]
  },
  {
   "cell_type": "code",
   "execution_count": 26,
   "metadata": {},
   "outputs": [
    {
     "name": "stdout",
     "output_type": "stream",
     "text": [
      "Informe de combustible\n",
      "    lectura de primer tanque: 30\n",
      "    lectura de segundo tanque: 30\n",
      "    lectura de tercer tanque: 30\n",
      "    promedio de combustible\" 30.0\n"
     ]
    }
   ],
   "source": [
    "print(combustible(30,30,30))"
   ]
  },
  {
   "cell_type": "code",
   "execution_count": 8,
   "metadata": {},
   "outputs": [
    {
     "name": "stdout",
     "output_type": "stream",
     "text": [
      "Informe de vuelo\n",
      "    Destino: luna\n",
      "    Tiempo de vuelo: 1212\n",
      "    Total de combustible: 5000\n"
     ]
    }
   ],
   "source": [
    "# Ejercicio 2 trabajar con argumentos de palabras clave\n",
    "def informee(hora_prelanzamiento, tiempo_vuelo, destino, tanque_externo, tanque_interno):\n",
    "    return f\"\"\"Informe de vuelo\n",
    "    Destino: {destino}\n",
    "    Tiempo de vuelo: {hora_prelanzamiento+tiempo_vuelo}\n",
    "    Total de combustible: {tanque_externo + tanque_interno}\"\"\"\n",
    "print(informee(12,1200,'luna',2000,3000))"
   ]
  },
  {
   "cell_type": "code",
   "execution_count": 12,
   "metadata": {},
   "outputs": [
    {
     "name": "stdout",
     "output_type": "stream",
     "text": [
      " Informe de vuelo\n",
      "    Destino: marte\n",
      "    tiempo de vuelo:44\n",
      "    total de combustible: 27000\n",
      "    \n"
     ]
    }
   ],
   "source": [
    "# nueva funcion usando *args y **kwargs\n",
    "def informe_nuevo(destino, *tiempo, **tanques):\n",
    "    total_tiempo = sum(tiempo)\n",
    "    total_tanque = sum(tanques.values())\n",
    "    return f\"\"\" Informe de vuelo\n",
    "    Destino: {destino}\n",
    "    tiempo de vuelo:{total_tiempo}\n",
    "    total de combustible: {total_tanque}\n",
    "    \"\"\"\n",
    "print(informe_nuevo('marte',12,20,12,tanque_Interno1= 12000, tanque_Interno2 = 10000, tanque_Externo1= 5000))    "
   ]
  },
  {
   "cell_type": "code",
   "execution_count": 16,
   "metadata": {},
   "outputs": [
    {
     "name": "stdout",
     "output_type": "stream",
     "text": [
      " Informe de vuelo\n",
      "    Destino: marte\n",
      "    tiempo de vuelo:44\n",
      "    total de combustible: 27000\n",
      "    tanque: tanquesInterno1 cantidad de combustible 12000 \n",
      "        tanque: tanquesInterno2 cantidad de combustible 10000 \n",
      "        tanque: tanqueExterno1 cantidad de combustible 5000 \n",
      "        \n"
     ]
    }
   ],
   "source": [
    "# nueva funcion usando nombre de cada tanque\n",
    "def informe_nuevo(destino, *tiempo, **tanques):\n",
    "    total_tiempo = sum(tiempo)\n",
    "    total_tanque = sum(tanques.values())\n",
    "    reporte = f\"\"\" Informe de vuelo\n",
    "    Destino: {destino}\n",
    "    tiempo de vuelo:{total_tiempo}\n",
    "    total de combustible: {total_tanque}\n",
    "    \"\"\"\n",
    "    for tank, cantidad_combusti in tanques.items():\n",
    "        reporte += f\"\"\"tanque: {tank} cantidad de combustible {cantidad_combusti} \n",
    "        \"\"\" \n",
    "    return reporte\n",
    "print(informe_nuevo('marte',12,20,12,tanquesInterno1= 12000, tanquesInterno2 = 10000, tanqueExterno1= 5000))   "
   ]
  }
 ],
 "metadata": {
  "interpreter": {
   "hash": "ddb33fb420f9f3abf8e945c229b7e0c583d68ed8f8d5727dab53520eba8e8416"
  },
  "kernelspec": {
   "display_name": "Python 3.10.2 64-bit",
   "language": "python",
   "name": "python3"
  },
  "language_info": {
   "codemirror_mode": {
    "name": "ipython",
    "version": 3
   },
   "file_extension": ".py",
   "mimetype": "text/x-python",
   "name": "python",
   "nbconvert_exporter": "python",
   "pygments_lexer": "ipython3",
   "version": "3.10.2"
  },
  "orig_nbformat": 4
 },
 "nbformat": 4,
 "nbformat_minor": 2
}
