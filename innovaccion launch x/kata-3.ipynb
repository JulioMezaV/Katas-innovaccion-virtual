{
 "cells": [
  {
   "cell_type": "markdown",
   "metadata": {},
   "source": [
    "# Katas del modulo 3\n"
   ]
  },
  {
   "cell_type": "code",
   "execution_count": 3,
   "metadata": {},
   "outputs": [
    {
     "name": "stdout",
     "output_type": "stream",
     "text": [
      "velocidad de asteroide fuera de lo peligroso\n"
     ]
    }
   ],
   "source": [
    "asteroide = 49\n",
    "if asteroide > 25:\n",
    "    print('velocidad de asteroide demasiado rapida')\n",
    "else:\n",
    "    print('velocidad de asteroide fuera de lo peligroso')\n"
   ]
  },
  {
   "cell_type": "code",
   "execution_count": 5,
   "metadata": {},
   "outputs": [
    {
     "name": "stdout",
     "output_type": "stream",
     "text": [
      "es poseble ver al asteroide entrando al planeta\n"
     ]
    }
   ],
   "source": [
    "velocidadasteroide = 19\n",
    "if velocidadasteroide > 20:\n",
    "    print('es posible ver al asteroide entrando al planeta')\n",
    "elif velocidadasteroide == 20:\n",
    "    print('es posible ver al asteroide entrando al planeta')\n",
    "else:\n",
    "    print('no es probable ver el asteroide')"
   ]
  },
  {
   "cell_type": "code",
   "execution_count": 9,
   "metadata": {},
   "outputs": [
    {
     "name": "stdout",
     "output_type": "stream",
     "text": [
      "¡¡¡peligro!!!\n"
     ]
    }
   ],
   "source": [
    "tamañoasteroide = 26\n",
    "velocidadasteroid = 30\n",
    "if tamañoasteroide < 25 and velocidadasteroid < 25:\n",
    "    print('no hay peligro')\n",
    "elif velocidadasteroid >= 20 and velocidadasteroid < 25:\n",
    "    print ('es posible ver el asteroide de manera segura')\n",
    "elif velocidadasteroid > 25 and tamañoasteroide > 25:\n",
    "    print('¡¡¡peligro!!!')\n",
    "else: \n",
    "    print('sin advertencia')"
   ]
  }
 ],
 "metadata": {
  "interpreter": {
   "hash": "ddb33fb420f9f3abf8e945c229b7e0c583d68ed8f8d5727dab53520eba8e8416"
  },
  "kernelspec": {
   "display_name": "Python 3.10.2 64-bit",
   "language": "python",
   "name": "python3"
  },
  "language_info": {
   "codemirror_mode": {
    "name": "ipython",
    "version": 3
   },
   "file_extension": ".py",
   "mimetype": "text/x-python",
   "name": "python",
   "nbconvert_exporter": "python",
   "pygments_lexer": "ipython3",
   "version": "3.10.2"
  },
  "orig_nbformat": 4
 },
 "nbformat": 4,
 "nbformat_minor": 2
}
