{
 "cells": [
  {
   "cell_type": "markdown",
   "metadata": {},
   "source": [
    "## Kata modulo 5\n",
    "Ejercicio 1"
   ]
  },
  {
   "cell_type": "code",
   "execution_count": 2,
   "metadata": {},
   "outputs": [],
   "source": [
    "#Variable \n",
    "Tierra = 149597870\n",
    "Juppiter = 778547200"
   ]
  },
  {
   "cell_type": "code",
   "execution_count": 4,
   "metadata": {},
   "outputs": [
    {
     "name": "stdout",
     "output_type": "stream",
     "text": [
      "390577533.93\n"
     ]
    }
   ],
   "source": [
    "# realizando operaciones\n",
    "Distancia = abs((Tierra - Juppiter)*0.621)\n",
    "print(Distancia)"
   ]
  },
  {
   "cell_type": "markdown",
   "metadata": {},
   "source": [
    "## Ejercicio 2 "
   ]
  },
  {
   "cell_type": "code",
   "execution_count": 12,
   "metadata": {},
   "outputs": [
    {
     "name": "stdout",
     "output_type": "stream",
     "text": [
      "primer dato ingresado: 5790000\n",
      "segundo dato ingresado: 108200000\n"
     ]
    }
   ],
   "source": [
    "# Lee los valores\n",
    "primer_planeta = input('ingrese distancia primer planeta' )\n",
    "segundo_planeta = input('ingrese distancia segundo planeta' )\n",
    "print(f\"\"\"primer dato ingresado: {primer_planeta}\n",
    "segundo dato ingresado: {segundo_planeta}\"\"\")"
   ]
  },
  {
   "cell_type": "code",
   "execution_count": 1,
   "metadata": {},
   "outputs": [
    {
     "name": "stderr",
     "output_type": "stream",
     "text": [
      "\n",
      "KeyboardInterrupt\n",
      "\n"
     ]
    }
   ],
   "source": [
    "#Convertir cadena a entero\n",
    "primer_planeta_int = int(primer_planeta)\n",
    "segundo_planeta_int = int(segundo_planeta)"
   ]
  },
  {
   "cell_type": "code",
   "execution_count": 14,
   "metadata": {},
   "outputs": [
    {
     "name": "stdout",
     "output_type": "stream",
     "text": [
      "63596610.0\n"
     ]
    }
   ],
   "source": [
    "#Calcular distancia\n",
    "Distancia_entrePlaneta = abs((primer_planeta_int - segundo_planeta_int)*0.621)\n",
    "print(Distancia_entrePlaneta)"
   ]
  }
 ],
 "metadata": {
  "interpreter": {
   "hash": "ddb33fb420f9f3abf8e945c229b7e0c583d68ed8f8d5727dab53520eba8e8416"
  },
  "kernelspec": {
   "display_name": "Python 3.10.2 64-bit",
   "language": "python",
   "name": "python3"
  },
  "language_info": {
   "codemirror_mode": {
    "name": "ipython",
    "version": 3
   },
   "file_extension": ".py",
   "mimetype": "text/x-python",
   "name": "python",
   "nbconvert_exporter": "python",
   "pygments_lexer": "ipython3",
   "version": "3.10.2"
  },
  "orig_nbformat": 4
 },
 "nbformat": 4,
 "nbformat_minor": 2
}
