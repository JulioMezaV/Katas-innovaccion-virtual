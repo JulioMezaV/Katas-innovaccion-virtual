{
 "cells": [
  {
   "cell_type": "markdown",
   "metadata": {},
   "source": [
    "## Katas modulo 8"
   ]
  },
  {
   "cell_type": "code",
   "execution_count": 2,
   "metadata": {},
   "outputs": [],
   "source": [
    "#Ejercicio 1\n",
    "planeta= {\n",
    "'name': 'Mars',\n",
    "'moons': 2 \n",
    "}"
   ]
  },
  {
   "cell_type": "code",
   "execution_count": 5,
   "metadata": {},
   "outputs": [
    {
     "name": "stdout",
     "output_type": "stream",
     "text": [
      "planeta: Mars\n",
      "lunas: 2\n",
      "\n"
     ]
    }
   ],
   "source": [
    "print(f\"\"\"planeta: {planeta['name']}\n",
    "lunas: {planeta['moons']}\n",
    "\"\"\")"
   ]
  },
  {
   "cell_type": "code",
   "execution_count": 7,
   "metadata": {},
   "outputs": [],
   "source": [
    "planeta['circunferencia(km)'] = {\n",
    "    'polar': 6752,\n",
    "    'ecuatorial' : 6792\n",
    "}"
   ]
  },
  {
   "cell_type": "code",
   "execution_count": 8,
   "metadata": {},
   "outputs": [
    {
     "name": "stdout",
     "output_type": "stream",
     "text": [
      "nombre de planeta:Mars\n",
      "circunferencia polar: 6752\n",
      "\n"
     ]
    }
   ],
   "source": [
    "print(f\"\"\"nombre de planeta:{planeta['name']}\n",
    "circunferencia polar: {planeta['circunferencia(km)']['polar']}\n",
    "\"\"\")"
   ]
  },
  {
   "cell_type": "code",
   "execution_count": 1,
   "metadata": {},
   "outputs": [],
   "source": [
    "#Ejercicio 2 \n",
    "planets_moons = {\n",
    "    'mercurio': 0,\n",
    "    'venus': 0,\n",
    "    'earth': 1,\n",
    "    'mars': 2,\n",
    "    'jupiter': 79,\n",
    "    'saturn': 82,\n",
    "    'uranus': 27,\n",
    "    'neptune': 14,\n",
    "    'pluto': 5,\n",
    "    'haumea': 2,\n",
    "    'makemake': 1,\n",
    "    'eris': 1 \n",
    "    }"
   ]
  },
  {
   "cell_type": "code",
   "execution_count": 3,
   "metadata": {},
   "outputs": [],
   "source": [
    "moons = planets_moons.values()\n",
    "planets = len(planets_moons.keys())"
   ]
  },
  {
   "cell_type": "code",
   "execution_count": 7,
   "metadata": {},
   "outputs": [
    {
     "name": "stdout",
     "output_type": "stream",
     "text": [
      " numero de planetas: 12\n",
      "numeros de lunas: 214\n",
      "primedio de lunas: 17.833333333333332\n"
     ]
    }
   ],
   "source": [
    "total_moons= 0\n",
    "for values in moons:\n",
    "    total_moons = total_moons + values\n",
    "Average = total_moons/planets\n",
    "print(f\"\"\" numero de planetas: {planets}\n",
    "numeros de lunas: {total_moons}\n",
    "primedio de lunas: {Average}\"\"\")"
   ]
  }
 ],
 "metadata": {
  "interpreter": {
   "hash": "ddb33fb420f9f3abf8e945c229b7e0c583d68ed8f8d5727dab53520eba8e8416"
  },
  "kernelspec": {
   "display_name": "Python 3.10.2 64-bit",
   "language": "python",
   "name": "python3"
  },
  "language_info": {
   "codemirror_mode": {
    "name": "ipython",
    "version": 3
   },
   "file_extension": ".py",
   "mimetype": "text/x-python",
   "name": "python",
   "nbconvert_exporter": "python",
   "pygments_lexer": "ipython3",
   "version": "3.10.2"
  },
  "orig_nbformat": 4
 },
 "nbformat": 4,
 "nbformat_minor": 2
}
